{
 "cells": [
  {
   "cell_type": "markdown",
   "metadata": {},
   "source": [
    "# <p style=\"text-align: center;\"> Aula Pratica 6\n",
    "Nome: Francielly das Neves Lafaete </p>\n",
    "Matricula: 2017023382 </p>\n"
   ]
  },
  {
   "cell_type": "code",
   "execution_count": 1,
   "metadata": {},
   "outputs": [
    {
     "name": "stderr",
     "output_type": "stream",
     "text": [
      "C:\\Users\\franc\\Anaconda2\\lib\\site-packages\\sklearn\\cross_validation.py:41: DeprecationWarning: This module was deprecated in version 0.18 in favor of the model_selection module into which all the refactored classes and functions are moved. Also note that the interface of the new CV iterators are different from that of this module. This module will be removed in 0.20.\n",
      "  \"This module will be removed in 0.20.\", DeprecationWarning)\n",
      "C:\\Users\\franc\\Anaconda2\\lib\\site-packages\\sklearn\\grid_search.py:42: DeprecationWarning: This module was deprecated in version 0.18 in favor of the model_selection module into which all the refactored classes and functions are moved. This module will be removed in 0.20.\n",
      "  DeprecationWarning)\n"
     ]
    }
   ],
   "source": [
    "from skimage.transform import rotate\n",
    "from skimage.feature import local_binary_pattern, greycomatrix, greycoprops\n",
    "from skimage import data\n",
    "from skimage.color import label2rgb\n",
    "from sklearn import cross_validation\n",
    "from sklearn.datasets import load_iris\n",
    "from sklearn import tree\n",
    "from sklearn.metrics import accuracy_score \n",
    "from random import randint\n",
    "import matplotlib.pyplot as plt\n",
    "import numpy as np\n",
    "from __future__ import print_function\n",
    "import glob\n",
    "import skimage.io as io\n",
    "import random\n",
    "import numpy as np\n",
    "from sklearn import cross_validation\n",
    "from sklearn.datasets import load_iris\n",
    "from sklearn.datasets import load_digits\n",
    "from sklearn import grid_search\n",
    "from sklearn import svm\n",
    "from sklearn.metrics import accuracy_score\n",
    "from sklearn.cross_validation import KFold\n",
    "\n",
    "%matplotlib inline"
   ]
  },
  {
   "cell_type": "code",
   "execution_count": 2,
   "metadata": {},
   "outputs": [],
   "source": [
    "'''\n",
    "    Trains a simple classifier (eg.: SVMs, DT, ...)\n",
    "'''\n",
    "def Simple_Classifier_Function(train, target, test, test_target, classifier, clf_name):\n",
    "    #Start Simple Classifier\n",
    "\n",
    "    classifier.fit(train, target)\n",
    "\n",
    "    prediction = classifier.predict(test)\n",
    "    accuracy = accuracy_score(test_target, prediction)\n",
    "\n",
    "    print ('%s Accuracy %.2f' % (clf_name, accuracy))\n",
    "    return accuracy\n",
    "\n",
    "'''\n",
    "    Search for the best set of parameters for a determined classifier. In this case, it evaluates only two parameters: C (penalty parameter) and gamma (kernel coefficient).\n",
    "    These are fundamental for the SVM-RBF classifier.\n",
    "'''\n",
    "def Simple_Classifier_Function_Grid_Search(train, target, classifier, C, gamma):\n",
    "    #Start Classifier Grid Search\n",
    "\n",
    "    # Parameters to be evaluated\n",
    "    parameters = {'C': C, 'gamma': gamma}\n",
    "\n",
    "    # Searching parameters with 6 cores. Verbose prints in screen at each iteration (higher value, more information).\n",
    "    clf = grid_search.GridSearchCV(classifier, param_grid=parameters, verbose=1, n_jobs=6)\n",
    "\n",
    "    clf.fit(train, target)\n",
    "    print (clf.best_score_)\n",
    "    print (clf.best_params_)\n",
    "\n",
    "    return clf"
   ]
  },
  {
   "cell_type": "markdown",
   "metadata": {},
   "source": [
    "# GLCM\n"
   ]
  },
  {
   "cell_type": "code",
   "execution_count": 3,
   "metadata": {},
   "outputs": [],
   "source": [
    "texturas = []\n",
    "texturas_target = []\n",
    "pasta= \"T21_wallpaper/\"\n",
    "for arquivo in glob.glob(pasta + '*.jpg'):\n",
    "    texturas.append(io.imread(arquivo, as_grey=True))\n",
    "    texturas_target.append(\"wallpaper\")\n",
    "pasta = \"T22_fur/\"\n",
    "for arquivo in glob.glob(pasta + '*.jpg'):\n",
    "    texturas.append(io.imread(arquivo, as_grey=True))\n",
    "    texturas_target.append(\"fur\")\n",
    "pasta= \"T23_knit/\"\n",
    "for arquivo in glob.glob(pasta + '*.jpg'):\n",
    "    texturas.append(io.imread(arquivo, as_grey=True))\n",
    "    texturas_target.append(\"knit\")\n",
    "pasta= \"T24_corduroy/\"\n",
    "for arquivo in glob.glob(pasta + '*.jpg'):\n",
    "    texturas.append(io.imread(arquivo, as_grey=True))\n",
    "    texturas_target.append(\"corduroy\")\n",
    "pasta = \"T25_plaid/\"\n",
    "for arquivo in glob.glob(pasta + '*.jpg'):\n",
    "    texturas.append(io.imread(arquivo, as_grey=True))\n",
    "    texturas_target.append(\"plaid\")\n",
    "\n",
    "train_text = []\n",
    "valid_text = []\n",
    "train_class = []\n",
    "valid_class = []\n",
    "\n",
    "#dividir 60% treino, 40%validaçao\n",
    "from random import randint\n",
    "for i in range (0,199):\n",
    "    idx = random.randint(0,199)\n",
    "    if i <120:\n",
    "        train_text.append(texturas[idx])\n",
    "        train_class.append(texturas_target[idx])\n",
    "    else:\n",
    "        valid_text.append(texturas[idx])\n",
    "        valid_class.append(texturas_target[idx])\n",
    "\n",
    "\n"
   ]
  },
  {
   "cell_type": "markdown",
   "metadata": {},
   "source": [
    "### Extraindo caracteristicas com: GLCM"
   ]
  },
  {
   "cell_type": "code",
   "execution_count": 4,
   "metadata": {},
   "outputs": [
    {
     "name": "stderr",
     "output_type": "stream",
     "text": [
      "C:\\Users\\franc\\Anaconda2\\lib\\site-packages\\skimage\\feature\\texture.py:109: FutureWarning: Conversion of the second argument of issubdtype from `float` to `np.floating` is deprecated. In future, it will be treated as `np.float64 == np.dtype(float).type`.\n",
      "  if np.issubdtype(image.dtype, np.float):\n"
     ]
    }
   ],
   "source": [
    "for i in range (0, len(train_text)):\n",
    "    train_text[i] = greycomatrix(train_text[i], [5], [0], 256, symmetric=True, normed=True)\n",
    "for i in range(0, len(valid_text)):\n",
    "    valid_text[i] = greycomatrix(valid_text[i], [5], [0], 256, symmetric=True, normed=True)\n"
   ]
  },
  {
   "cell_type": "markdown",
   "metadata": {},
   "source": [
    "### Treinando com  Arvore de decisões"
   ]
  },
  {
   "cell_type": "code",
   "execution_count": 5,
   "metadata": {},
   "outputs": [
    {
     "name": "stdout",
     "output_type": "stream",
     "text": [
      "acuracy: \n",
      "0.8860759493670886\n"
     ]
    }
   ],
   "source": [
    "#Treino\n",
    "train_text = np.array(train_text)\n",
    "train_class = np.array(train_class)\n",
    "train_text = np.reshape(train_text, (train_text.shape[0], train_text.shape[1]*train_text.shape[1]))\n",
    "clf_1 = tree.DecisionTreeClassifier()\n",
    "clf_1.fit(train_text,train_class)\n",
    "\n",
    "#validaçao\n",
    "valid_text = np.array(valid_text)\n",
    "valid_class = np.array(valid_class)\n",
    "valid_text = np.reshape(valid_text, (valid_text.shape[0], valid_text.shape[1]*valid_text.shape[2]))\n",
    "predction = clf_1.predict(valid_text)\n",
    "accuracy = accuracy_score(valid_class, predction)\n",
    "print(\"acuracy: \")\n",
    "print(accuracy)"
   ]
  },
  {
   "cell_type": "markdown",
   "metadata": {},
   "source": [
    "###  Treinando com SVM"
   ]
  },
  {
   "cell_type": "code",
   "execution_count": 6,
   "metadata": {},
   "outputs": [
    {
     "name": "stdout",
     "output_type": "stream",
     "text": [
      "SVM-RBF Accuracy 0.20\n",
      "Linear SVM Accuracy 0.20\n"
     ]
    },
    {
     "data": {
      "text/plain": [
       "0.20253164556962025"
      ]
     },
     "execution_count": 6,
     "metadata": {},
     "output_type": "execute_result"
    }
   ],
   "source": [
    "Simple_Classifier_Function(train_text, train_class, valid_text, valid_class, svm.SVC(), 'SVM-RBF') # SVM-RBF, which is the default configuration of the svm.SVC()\n",
    "Simple_Classifier_Function(train_text, train_class, valid_text, valid_class, svm.LinearSVC(),'Linear SVM') # Linear SVM\n"
   ]
  },
  {
   "cell_type": "markdown",
   "metadata": {},
   "source": [
    "### Local Binary Pattern\n"
   ]
  },
  {
   "cell_type": "code",
   "execution_count": 7,
   "metadata": {},
   "outputs": [],
   "source": [
    "texturas = []\n",
    "texturas_target = []\n",
    "pasta= \"T21_wallpaper/\"\n",
    "for arquivo in glob.glob(pasta + '*.jpg'):\n",
    "    texturas.append(io.imread(arquivo, as_grey=True))\n",
    "    texturas_target.append(\"wallpaper\")\n",
    "pasta = \"T22_fur/\"\n",
    "for arquivo in glob.glob(pasta + '*.jpg'):\n",
    "    texturas.append(io.imread(arquivo, as_grey=True))\n",
    "    texturas_target.append(\"fur\")\n",
    "pasta= \"T23_knit/\"\n",
    "for arquivo in glob.glob(pasta + '*.jpg'):\n",
    "    texturas.append(io.imread(arquivo, as_grey=True))\n",
    "    texturas_target.append(\"knit\")\n",
    "pasta= \"T24_corduroy/\"\n",
    "for arquivo in glob.glob(pasta + '*.jpg'):\n",
    "    texturas.append(io.imread(arquivo, as_grey=True))\n",
    "    texturas_target.append(\"corduroy\")\n",
    "pasta = \"T25_plaid/\"\n",
    "for arquivo in glob.glob(pasta + '*.jpg'):\n",
    "    texturas.append(io.imread(arquivo, as_grey=True))\n",
    "    texturas_target.append(\"plaid\")\n",
    "\n",
    "\n",
    "train_text = []\n",
    "valid_text = []\n",
    "train_class = []\n",
    "valid_class = []\n",
    "\n",
    "\n",
    "#dividir 60% treino, 40%validaçao\n",
    "from random import randint\n",
    "for i in range (0,199):\n",
    "    idx = random.randint(0,199)\n",
    "    if i <120:\n",
    "        train_text.append(texturas[idx])\n",
    "        train_class.append(texturas_target[idx])\n",
    "    else:\n",
    "        valid_text.append(texturas[idx])\n",
    "        valid_class.append(texturas_target[idx])\n",
    "\n"
   ]
  },
  {
   "cell_type": "markdown",
   "metadata": {},
   "source": [
    "### Extraindo caracteristicas com: Local Binary Pattern"
   ]
  },
  {
   "cell_type": "code",
   "execution_count": 8,
   "metadata": {},
   "outputs": [],
   "source": [
    "def hist(lbp):\n",
    "    n_bins = int(lbp.max() + 1)\n",
    "    return np.histogram(lbp.ravel(), normed=True, bins=n_bins, range=(0, n_bins))[0]"
   ]
  },
  {
   "cell_type": "code",
   "execution_count": 9,
   "metadata": {},
   "outputs": [],
   "source": [
    "# settings for LBP\n",
    "METHOD = 'uniform'\n",
    "plt.rcParams['font.size'] = 9\n",
    "radius = 2\n",
    "n_points = 8 * radius\n",
    "\n",
    "for i in range (0, len(train_text)):\n",
    "    train_text[i] = hist(local_binary_pattern(train_text[i], n_points, radius, METHOD))\n",
    "for i in range(0, len(valid_text)):\n",
    "    valid_text[i] = hist(local_binary_pattern(valid_text[i], n_points, radius, METHOD))"
   ]
  },
  {
   "cell_type": "markdown",
   "metadata": {},
   "source": [
    "### Treinando com Arvore de decisoes"
   ]
  },
  {
   "cell_type": "code",
   "execution_count": 10,
   "metadata": {},
   "outputs": [
    {
     "name": "stdout",
     "output_type": "stream",
     "text": [
      "acuracy: \n",
      "0.7974683544303798\n"
     ]
    }
   ],
   "source": [
    "#Treino\n",
    "clf_1 = tree.DecisionTreeClassifier()\n",
    "clf_1.fit(train_text,train_class)\n",
    "\n",
    "#validaçao\n",
    "predction = clf_1.predict(valid_text)\n",
    "accuracy = accuracy_score(valid_class, predction)\n",
    "print(\"acuracy: \")\n",
    "print(accuracy)"
   ]
  },
  {
   "cell_type": "markdown",
   "metadata": {},
   "source": [
    "### Treinando com SVM"
   ]
  },
  {
   "cell_type": "code",
   "execution_count": 11,
   "metadata": {},
   "outputs": [
    {
     "name": "stdout",
     "output_type": "stream",
     "text": [
      "SVM-RBF Accuracy 0.23\n",
      "Linear SVM Accuracy 0.51\n"
     ]
    },
    {
     "data": {
      "text/plain": [
       "0.5063291139240507"
      ]
     },
     "execution_count": 11,
     "metadata": {},
     "output_type": "execute_result"
    }
   ],
   "source": [
    "Simple_Classifier_Function(train_text, train_class, valid_text, valid_class, svm.SVC(), 'SVM-RBF') # SVM-RBF, which is the default configuration of the svm.SVC()\n",
    "Simple_Classifier_Function(train_text, train_class, valid_text, valid_class, svm.LinearSVC(),'Linear SVM') # Linear SVM\n"
   ]
  },
  {
   "cell_type": "markdown",
   "metadata": {},
   "source": [
    "O descritor que apresentou o melhor desempenho foi: GLCM </p>\n",
    "A abordagem de aprendizado que apresentou melhor resultado foi:Arvore de Decisões  </p>\n",
    "Melhor combinação: GLCM + Arvore de Decisões."
   ]
  }
 ],
 "metadata": {
  "kernelspec": {
   "display_name": "Python 2",
   "language": "python",
   "name": "python2"
  },
  "language_info": {
   "codemirror_mode": {
    "name": "ipython",
    "version": 2
   },
   "file_extension": ".py",
   "mimetype": "text/x-python",
   "name": "python",
   "nbconvert_exporter": "python",
   "pygments_lexer": "ipython2",
   "version": "2.7.15"
  }
 },
 "nbformat": 4,
 "nbformat_minor": 2
}
