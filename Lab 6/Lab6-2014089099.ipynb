{
 "cells": [
  {
   "cell_type": "markdown",
   "metadata": {},
   "source": [
    "## Lab 6 - Luiza Silva Abreu TOPZERA ROLEZERA eu mesma"
   ]
  },
  {
   "cell_type": "code",
   "execution_count": 197,
   "metadata": {},
   "outputs": [
    {
     "name": "stderr",
     "output_type": "stream",
     "text": [
      "C:\\Users\\asuspc\\Anaconda2\\lib\\site-packages\\sklearn\\grid_search.py:42: DeprecationWarning: This module was deprecated in version 0.18 in favor of the model_selection module into which all the refactored classes and functions are moved. This module will be removed in 0.20.\n",
      "  DeprecationWarning)\n"
     ]
    }
   ],
   "source": [
    "from skimage.transform import rotate\n",
    "from skimage.feature import local_binary_pattern, greycomatrix, greycoprops\n",
    "from skimage import data\n",
    "from skimage.color import label2rgb\n",
    "import matplotlib.pyplot as plt\n",
    "import numpy as np\n",
    "from __future__ import print_function\n",
    "import skimage.io as io\n",
    "import os\n",
    "import glob\n",
    "\n",
    "import random\n",
    "import numpy as np\n",
    "from sklearn import cross_validation\n",
    "from sklearn.datasets import load_iris\n",
    "from sklearn import tree\n",
    "from sklearn.metrics import accuracy_score \n",
    "\n",
    "import random\n",
    "import numpy as np\n",
    "from sklearn import cross_validation\n",
    "from sklearn.datasets import load_iris\n",
    "from sklearn.datasets import load_digits\n",
    "from sklearn import grid_search\n",
    "from sklearn import svm\n",
    "from sklearn.metrics import accuracy_score\n",
    "from sklearn.cross_validation import KFold\n",
    "\n",
    "\n",
    "%matplotlib inline"
   ]
  },
  {
   "cell_type": "code",
   "execution_count": 193,
   "metadata": {},
   "outputs": [],
   "source": [
    "def hist(lbp):\n",
    "    n_bins = int(lbp.max() + 1)\n",
    "    return np.histogram(lbp.ravel(), normed=True, bins=n_bins, range=(0, n_bins))[0]"
   ]
  },
  {
   "cell_type": "markdown",
   "metadata": {},
   "source": [
    "### LBP e árvore de decisão"
   ]
  },
  {
   "cell_type": "code",
   "execution_count": 194,
   "metadata": {
    "scrolled": true
   },
   "outputs": [],
   "source": [
    "# settings for LBP\n",
    "METHOD = 'uniform'\n",
    "plt.rcParams['font.size'] = 9\n",
    "radius = 2\n",
    "n_points = 8 * radius\n",
    "\n",
    "#Extraindo caracteristicas conjunto de treino\n",
    "i=1;\n",
    "treino=[]\n",
    "labels_treino = []\n",
    "while(i<=32):\n",
    "    wallpaper = io.imread(\"Texturas/T21_wallpaper/T21_\"+str(i)+\".jpg\")\n",
    "    fur = io.imread(\"Texturas/T22_fur/T22_\"+str(i)+\".jpg\")\n",
    "    knit = io.imread(\"Texturas/T23_knit/T23_\"+str(i)+\".jpg\")\n",
    "    corduroy = io.imread(\"Texturas/T24_corduroy/T24_\"+str(i)+\".jpg\")\n",
    "    plaid = io.imread(\"Texturas/T25_plaid/T25_\"+str(i)+\".jpg\")\n",
    "    \n",
    "    treino_wallpaper = hist(local_binary_pattern(wallpaper, n_points, radius, METHOD))\n",
    "    treino_fur = hist(local_binary_pattern(fur, n_points, radius, METHOD))\n",
    "    treino_knit = hist(local_binary_pattern(knit, n_points, radius, METHOD))\n",
    "    treino_corduroy = hist(local_binary_pattern(corduroy, n_points, radius, METHOD))\n",
    "    treino_plaid = hist(local_binary_pattern(plaid, n_points, radius, METHOD))\n",
    "    \n",
    "    treino.append(treino_wallpaper)\n",
    "    treino.append(treino_fur)\n",
    "    treino.append(treino_knit)\n",
    "    treino.append(treino_corduroy)\n",
    "    treino.append(treino_plaid)\n",
    "    \n",
    "    labels_treino.append(\"wallpaper\")\n",
    "    labels_treino.append(\"fur\")\n",
    "    labels_treino.append(\"knit\")\n",
    "    labels_treino.append(\"corduroy\")\n",
    "    labels_treino.append(\"plaid\")\n",
    "    \n",
    "    i+=1\n",
    "    \n",
    "treino = np.asarray(treino)\n",
    "labels_treino = np.asarray(labels_treino)\n",
    "# print(\"Conjunto de treino\")\n",
    "# print(treino)\n",
    "# print(\"\\n\\n\")\n",
    "# print(labels_treino)\n",
    "\n",
    "\n",
    "\n",
    "#Extraindo caracteristicas conjunto de teste\n",
    "i=33;\n",
    "teste=[]\n",
    "labels_teste = []\n",
    "while(i<=40):\n",
    "    wallpaper = io.imread(\"Texturas/T21_wallpaper/T21_\"+str(i)+\".jpg\")\n",
    "    fur = io.imread(\"Texturas/T22_fur/T22_\"+str(i)+\".jpg\")\n",
    "    knit = io.imread(\"Texturas/T23_knit/T23_\"+str(i)+\".jpg\")\n",
    "    corduroy = io.imread(\"Texturas/T24_corduroy/T24_\"+str(i)+\".jpg\")\n",
    "    plaid = io.imread(\"Texturas/T25_plaid/T25_\"+str(i)+\".jpg\")\n",
    "    \n",
    "    teste_wallpaper = hist(local_binary_pattern(wallpaper, n_points, radius, METHOD))\n",
    "    teste_fur = hist(local_binary_pattern(fur, n_points, radius, METHOD))\n",
    "    teste_knit = hist(local_binary_pattern(knit, n_points, radius, METHOD))\n",
    "    teste_corduroy = hist(local_binary_pattern(corduroy, n_points, radius, METHOD))\n",
    "    teste_plaid = hist(local_binary_pattern(plaid, n_points, radius, METHOD))\n",
    "    \n",
    "    teste.append(teste_wallpaper)\n",
    "    teste.append(teste_fur)\n",
    "    teste.append(teste_knit)\n",
    "    teste.append(teste_corduroy)\n",
    "    teste.append(teste_plaid)\n",
    "\n",
    "  \n",
    "    labels_teste.append(\"wallpaper\")\n",
    "    labels_teste.append(\"fur\")\n",
    "    labels_teste.append(\"knit\")\n",
    "    labels_teste.append(\"corduroy\")\n",
    "    labels_teste.append(\"plaid\")\n",
    "    \n",
    "    i+=1\n",
    "    \n",
    "teste = np.asarray(teste)\n",
    "labels_teste = np.asarray(labels_teste)    \n",
    "# print(\"Conjunto de teste\")\n",
    "# print(teste)\n",
    "# print(\"\\n\\n\")\n",
    "# print(labels_treino)\n",
    "    \n",
    "    \n",
    "\n",
    "\n",
    "    "
   ]
  },
  {
   "cell_type": "code",
   "execution_count": 195,
   "metadata": {},
   "outputs": [
    {
     "data": {
      "text/plain": [
       "DecisionTreeClassifier(class_weight=None, criterion='gini', max_depth=None,\n",
       "            max_features=None, max_leaf_nodes=None,\n",
       "            min_impurity_decrease=0.0, min_impurity_split=None,\n",
       "            min_samples_leaf=1, min_samples_split=2,\n",
       "            min_weight_fraction_leaf=0.0, presort=False, random_state=None,\n",
       "            splitter='best')"
      ]
     },
     "execution_count": 195,
     "metadata": {},
     "output_type": "execute_result"
    }
   ],
   "source": [
    "#Criação do moledo e Treinamento\n",
    "# treino = np.reshape(treino, (treino.shape[0], treino.shape[1]*treino.shape[2]))\n",
    "# print(treino.shape)\n",
    "# print(labels_treino.shape)\n",
    "clf_1 = tree.DecisionTreeClassifier()\n",
    "clf_1.fit(treino, labels_treino) \n"
   ]
  },
  {
   "cell_type": "code",
   "execution_count": 196,
   "metadata": {},
   "outputs": [
    {
     "name": "stdout",
     "output_type": "stream",
     "text": [
      "0.45\n"
     ]
    }
   ],
   "source": [
    "#Validação do modelo\n",
    "# teste = np.reshape(teste, (teste.shape[0], teste.shape[1]*teste.shape[2]))\n",
    "# print(teste.shape)\n",
    "# print(labels_teste.shape)\n",
    "\n",
    "predction = clf_1.predict(teste)\n",
    "\n",
    "accuracy = accuracy_score(labels_teste, predction)\n",
    "print(accuracy)"
   ]
  },
  {
   "cell_type": "markdown",
   "metadata": {},
   "source": [
    "### LBP e SVM"
   ]
  },
  {
   "cell_type": "code",
   "execution_count": 198,
   "metadata": {},
   "outputs": [
    {
     "name": "stdout",
     "output_type": "stream",
     "text": [
      "SVM-RBF Accuracy 0.47\n",
      "Linear SVM Accuracy 0.42\n"
     ]
    },
    {
     "data": {
      "text/plain": [
       "0.425"
      ]
     },
     "execution_count": 198,
     "metadata": {},
     "output_type": "execute_result"
    }
   ],
   "source": [
    "'''\n",
    "    Trains a simple classifier (eg.: SVMs, DT, ...)\n",
    "'''\n",
    "def Simple_Classifier_Function(train, target, test, test_target, classifier, clf_name):\n",
    "    #Start Simple Classifier\n",
    "\n",
    "    classifier.fit(train, target)\n",
    "\n",
    "    prediction = classifier.predict(test)\n",
    "    accuracy = accuracy_score(test_target, prediction)\n",
    "\n",
    "    print ('%s Accuracy %.2f' % (clf_name, accuracy))\n",
    "    return accuracy\n",
    "\n",
    "'''\n",
    "    Search for the best set of parameters for a determined classifier. In this case, it evaluates only two parameters: C (penalty parameter) and gamma (kernel coefficient).\n",
    "    These are fundamental for the SVM-RBF classifier.\n",
    "'''\n",
    "def Simple_Classifier_Function_Grid_Search(train, target, classifier, C, gamma):\n",
    "    #Start Classifier Grid Search\n",
    "\n",
    "    # Parameters to be evaluated\n",
    "    parameters = {'C': C, 'gamma': gamma}\n",
    "\n",
    "    # Searching parameters with 6 cores. Verbose prints in screen at each iteration (higher value, more information).\n",
    "    clf = grid_search.GridSearchCV(classifier, param_grid=parameters, verbose=1, n_jobs=6)\n",
    "\n",
    "    clf.fit(train, target)\n",
    "    print (clf.best_score_)\n",
    "    print (clf.best_params_)\n",
    "\n",
    "    return clf\n",
    "\n",
    "\n",
    "Simple_Classifier_Function(treino, labels_treino, teste, labels_teste, svm.SVC(), 'SVM-RBF') # SVM-RBF, which is the default configuration of the svm.SVC()\n",
    "Simple_Classifier_Function(treino, labels_treino, teste, labels_teste, svm.LinearSVC(),'Linear SVM') # Linear SVM\n",
    "\n"
   ]
  },
  {
   "cell_type": "markdown",
   "metadata": {},
   "source": [
    "### GLCM e árvore de decisão"
   ]
  },
  {
   "cell_type": "code",
   "execution_count": 201,
   "metadata": {},
   "outputs": [],
   "source": [
    "#Extraindo caracteristicas conjunto de treino\n",
    "i=1;\n",
    "treino=[]\n",
    "labels_treino = []\n",
    "while(i<=32):\n",
    "    wallpaper = io.imread(\"Texturas/T21_wallpaper/T21_\"+str(i)+\".jpg\")\n",
    "    fur = io.imread(\"Texturas/T22_fur/T22_\"+str(i)+\".jpg\")\n",
    "    knit = io.imread(\"Texturas/T23_knit/T23_\"+str(i)+\".jpg\")\n",
    "    corduroy= io.imread(\"Texturas/T24_corduroy/T24_\"+str(i)+\".jpg\")\n",
    "    plaid = io.imread(\"Texturas/T25_plaid/T25_\"+str(i)+\".jpg\")\n",
    "    \n",
    "    treino_wallpaper =  greycomatrix(wallpaper, [5], [0], 256, symmetric=True, normed=True)\n",
    "    treino_fur =  greycomatrix(fur, [5], [0], 256, symmetric=True, normed=True)\n",
    "    treino_knit = greycomatrix(knit, [5], [0], 256, symmetric=True, normed=True)\n",
    "    treino_corduroy =  greycomatrix(corduroy, [5], [0], 256, symmetric=True, normed=True)\n",
    "    treino_plaid =  greycomatrix(plaid, [5], [0], 256, symmetric=True, normed=True)\n",
    "    \n",
    "    treino.append(treino_wallpaper)\n",
    "    treino.append(treino_fur)\n",
    "    treino.append(treino_knit)\n",
    "    treino.append(treino_corduroy)\n",
    "    treino.append(treino_plaid)\n",
    "    \n",
    "    labels_treino.append(\"wallpaper\")\n",
    "    labels_treino.append(\"fur\")\n",
    "    labels_treino.append(\"knit\")\n",
    "    labels_treino.append(\"corduroy\")\n",
    "    labels_treino.append(\"plaid\")\n",
    "    \n",
    "    i+=1\n",
    "    \n",
    "treino = np.asarray(treino)\n",
    "labels_treino = np.asarray(labels_treino)\n",
    "# print(\"Conjunto de treino\")\n",
    "# print(treino)\n",
    "# print(\"\\n\\n\")\n",
    "# print(labels_treino)\n",
    "\n",
    "\n",
    "\n",
    "#Extraindo caracteristicas conjunto de teste\n",
    "i=33;\n",
    "teste=[]\n",
    "labels_teste = []\n",
    "while(i<=40):\n",
    "    wallpaper = io.imread(\"Texturas/T21_wallpaper/T21_\"+str(i)+\".jpg\")\n",
    "    fur = io.imread(\"Texturas/T22_fur/T22_\"+str(i)+\".jpg\")\n",
    "    knit = io.imread(\"Texturas/T23_knit/T23_\"+str(i)+\".jpg\")\n",
    "    corduroy = io.imread(\"Texturas/T24_corduroy/T24_\"+str(i)+\".jpg\")\n",
    "    plaid = io.imread(\"Texturas/T25_plaid/T25_\"+str(i)+\".jpg\")\n",
    "    \n",
    "    teste_wallpaper = greycomatrix(wallpaper, [5], [0], 256, symmetric=True, normed=True)\n",
    "    teste_fur = greycomatrix(fur, [5], [0], 256, symmetric=True, normed=True)\n",
    "    teste_knit = greycomatrix(knit, [5], [0], 256, symmetric=True, normed=True)\n",
    "    teste_corduroy =greycomatrix(corduroy, [5], [0], 256, symmetric=True, normed=True)\n",
    "    teste_plaid = greycomatrix(plaid, [5], [0], 256, symmetric=True, normed=True)\n",
    "    \n",
    "    teste.append(teste_wallpaper)\n",
    "    teste.append(teste_fur)\n",
    "    teste.append(teste_knit)\n",
    "    teste.append(teste_corduroy)\n",
    "    teste.append(teste_plaid)\n",
    "\n",
    "  \n",
    "    labels_teste.append(\"wallpaper\")\n",
    "    labels_teste.append(\"fur\")\n",
    "    labels_teste.append(\"knit\")\n",
    "    labels_teste.append(\"corduroy\")\n",
    "    labels_teste.append(\"plaid\")\n",
    "    \n",
    "    i+=1\n",
    "    \n",
    "teste = np.asarray(teste)\n",
    "labels_teste = np.asarray(labels_teste)    \n",
    "# print(\"Conjunto de teste\")\n",
    "# print(teste)\n",
    "# print(\"\\n\\n\")\n",
    "# print(labels_treino)\n",
    "    \n",
    "    \n",
    "\n",
    "\n",
    "    "
   ]
  },
  {
   "cell_type": "code",
   "execution_count": 203,
   "metadata": {},
   "outputs": [
    {
     "name": "stdout",
     "output_type": "stream",
     "text": [
      "(160L, 65536L)\n",
      "(160L,)\n"
     ]
    },
    {
     "data": {
      "text/plain": [
       "DecisionTreeClassifier(class_weight=None, criterion='gini', max_depth=None,\n",
       "            max_features=None, max_leaf_nodes=None,\n",
       "            min_impurity_decrease=0.0, min_impurity_split=None,\n",
       "            min_samples_leaf=1, min_samples_split=2,\n",
       "            min_weight_fraction_leaf=0.0, presort=False, random_state=None,\n",
       "            splitter='best')"
      ]
     },
     "execution_count": 203,
     "metadata": {},
     "output_type": "execute_result"
    }
   ],
   "source": [
    "treino = np.reshape(treino, (treino.shape[0], treino.shape[1]*treino.shape[2]))\n",
    "print(treino.shape)\n",
    "print(labels_treino.shape)\n",
    "clf_1 = tree.DecisionTreeClassifier()\n",
    "clf_1.fit(treino, labels_treino) "
   ]
  },
  {
   "cell_type": "code",
   "execution_count": 204,
   "metadata": {},
   "outputs": [
    {
     "name": "stdout",
     "output_type": "stream",
     "text": [
      "(40L, 65536L)\n",
      "(40L,)\n",
      "0.925\n"
     ]
    }
   ],
   "source": [
    "teste = np.reshape(teste, (teste.shape[0], teste.shape[1]*teste.shape[2]))\n",
    "print(teste.shape)\n",
    "print(labels_teste.shape)\n",
    "\n",
    "predction = clf_1.predict(teste)\n",
    "\n",
    "accuracy = accuracy_score(labels_teste, predction)\n",
    "print(accuracy)"
   ]
  },
  {
   "cell_type": "markdown",
   "metadata": {},
   "source": [
    "### GLCM e SVM"
   ]
  },
  {
   "cell_type": "code",
   "execution_count": 205,
   "metadata": {},
   "outputs": [
    {
     "name": "stdout",
     "output_type": "stream",
     "text": [
      "SVM-RBF Accuracy 0.50\n",
      "Linear SVM Accuracy 0.90\n"
     ]
    },
    {
     "data": {
      "text/plain": [
       "0.9"
      ]
     },
     "execution_count": 205,
     "metadata": {},
     "output_type": "execute_result"
    }
   ],
   "source": [
    "'''\n",
    "    Trains a simple classifier (eg.: SVMs, DT, ...)\n",
    "'''\n",
    "def Simple_Classifier_Function(train, target, test, test_target, classifier, clf_name):\n",
    "    #Start Simple Classifier\n",
    "\n",
    "    classifier.fit(train, target)\n",
    "\n",
    "    prediction = classifier.predict(test)\n",
    "    accuracy = accuracy_score(test_target, prediction)\n",
    "\n",
    "    print ('%s Accuracy %.2f' % (clf_name, accuracy))\n",
    "    return accuracy\n",
    "\n",
    "'''\n",
    "    Search for the best set of parameters for a determined classifier. In this case, it evaluates only two parameters: C (penalty parameter) and gamma (kernel coefficient).\n",
    "    These are fundamental for the SVM-RBF classifier.\n",
    "'''\n",
    "def Simple_Classifier_Function_Grid_Search(train, target, classifier, C, gamma):\n",
    "    #Start Classifier Grid Search\n",
    "\n",
    "    # Parameters to be evaluated\n",
    "    parameters = {'C': C, 'gamma': gamma}\n",
    "\n",
    "    # Searching parameters with 6 cores. Verbose prints in screen at each iteration (higher value, more information).\n",
    "    clf = grid_search.GridSearchCV(classifier, param_grid=parameters, verbose=1, n_jobs=6)\n",
    "\n",
    "    clf.fit(train, target)\n",
    "    print (clf.best_score_)\n",
    "    print (clf.best_params_)\n",
    "\n",
    "    return clf\n",
    "\n",
    "\n",
    "Simple_Classifier_Function(treino, labels_treino, teste, labels_teste, svm.SVC(), 'SVM-RBF') # SVM-RBF, which is the default configuration of the svm.SVC()\n",
    "Simple_Classifier_Function(treino, labels_treino, teste, labels_teste, svm.LinearSVC(),'Linear SVM') # Linear SVM\n",
    "\n",
    "    \n",
    "\n",
    "\n",
    "    "
   ]
  },
  {
   "cell_type": "markdown",
   "metadata": {},
   "source": [
    "#### Aplicar o esquema de validação cruzada na Árvore de Decisão e SVM.\n",
    "    Responder as seguintes perguntas:\n",
    "        (1) qual descritor apresentou os melhores resultados? \n",
    "        (2) qual abordagem de aprendizado apresentou os melhores resultados?"
   ]
  },
  {
   "cell_type": "markdown",
   "metadata": {},
   "source": [
    "O GLCM foi o descritor que combinado com a árvore de decisão apresentou o melhor resultado"
   ]
  }
 ],
 "metadata": {
  "kernelspec": {
   "display_name": "Python 2",
   "language": "python",
   "name": "python2"
  },
  "language_info": {
   "codemirror_mode": {
    "name": "ipython",
    "version": 2
   },
   "file_extension": ".py",
   "mimetype": "text/x-python",
   "name": "python",
   "nbconvert_exporter": "python",
   "pygments_lexer": "ipython2",
   "version": "2.7.15"
  }
 },
 "nbformat": 4,
 "nbformat_minor": 2
}
